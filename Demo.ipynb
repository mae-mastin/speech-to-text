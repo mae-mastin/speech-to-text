{
 "cells": [
  {
   "cell_type": "code",
   "execution_count": 1,
   "metadata": {},
   "outputs": [
    {
     "name": "stderr",
     "output_type": "stream",
     "text": [
      "c:\\Users\\q1062\\miniconda3\\envs\\SpeechVision\\lib\\site-packages\\tqdm\\auto.py:22: TqdmWarning: IProgress not found. Please update jupyter and ipywidgets. See https://ipywidgets.readthedocs.io/en/stable/user_install.html\n",
      "  from .autonotebook import tqdm as notebook_tqdm\n"
     ]
    },
    {
     "name": "stdout",
     "output_type": "stream",
     "text": [
      "1.13.0\n"
     ]
    }
   ],
   "source": [
    "import torch\n",
    "print(torch.__version__)"
   ]
  },
  {
   "cell_type": "code",
   "execution_count": 2,
   "metadata": {},
   "outputs": [],
   "source": [
    "from transformers import CLIPProcessor, CLIPModel\n",
    "import torch\n",
    "import torchvision\n",
    "from torchvision.models import resnet50\n",
    "import torchvision.transforms as transforms\n",
    "import matplotlib.pyplot as plt\n",
    "import numpy as np\n",
    "import clip\n",
    "from PIL import Image\n",
    "import requests\n",
    "\n"
   ]
  },
  {
   "cell_type": "code",
   "execution_count": 3,
   "metadata": {},
   "outputs": [
    {
     "name": "stdout",
     "output_type": "stream",
     "text": [
      "cuda:0\n"
     ]
    }
   ],
   "source": [
    "device = torch.device('cpu')\n",
    "if torch.cuda.is_available():\n",
    "    device = torch.device('cuda:0')    \n",
    "print(device)"
   ]
  },
  {
   "cell_type": "code",
   "execution_count": 4,
   "metadata": {},
   "outputs": [],
   "source": [
    "model, preprocess = clip.load(\"ViT-B/32\", device=device)"
   ]
  },
  {
   "cell_type": "code",
   "execution_count": 6,
   "metadata": {},
   "outputs": [],
   "source": [
    "import pickle\n",
    "# with open('embeddings.pkl', 'wb') as f:\n",
    "#     pickle.dump(dict_visual_embeddings, f)\n",
    "\n",
    "\n",
    "with open('embeddings.pkl', 'rb') as f:\n",
    "     embeddings = pickle.load(f)"
   ]
  },
  {
   "cell_type": "code",
   "execution_count": 7,
   "metadata": {},
   "outputs": [],
   "source": [
    "stackembeddings = []\n",
    "for i in range(10):\n",
    "    stackembeddings.append(torch.cat(embeddings[i]))"
   ]
  },
  {
   "cell_type": "code",
   "execution_count": 8,
   "metadata": {},
   "outputs": [],
   "source": [
    "stackembeddings = torch.cat(stackembeddings)"
   ]
  },
  {
   "cell_type": "code",
   "execution_count": 12,
   "metadata": {},
   "outputs": [],
   "source": [
    "transform = transforms.Compose([\n",
    "        transforms.Resize(224),\n",
    "        transforms.CenterCrop(224),\n",
    "        transforms.ToTensor(),\n",
    "    ])\n",
    "\n",
    "data_viz = torchvision.datasets.ImageFolder(\n",
    "    \"raw-img\",\n",
    "    transform=transform\n",
    ")\n"
   ]
  },
  {
   "cell_type": "code",
   "execution_count": 31,
   "metadata": {},
   "outputs": [],
   "source": [
    "def get_image(text):\n",
    "    text=clip.tokenize([text]).to(device)\n",
    "    text_features = model.encode_text(text)\n",
    "    scores = torch.einsum('ab, cb -> ac', stackembeddings, text_features)\n",
    "    idx = torch.argmax(scores)\n",
    "    plt.imshow(np.transpose(data_viz[idx][0], (1,2,0)))\n",
    "    plt.axis(\"off\")\n",
    "    plt.savefig('generateio')"
   ]
  },
  {
   "cell_type": "code",
   "execution_count": 32,
   "metadata": {},
   "outputs": [
    {
     "ename": "TypeError",
     "evalue": "Cannot handle this data type: (1, 1, 3), <f4",
     "output_type": "error",
     "traceback": [
      "\u001b[1;31m---------------------------------------------------------------------------\u001b[0m",
      "\u001b[1;31mKeyError\u001b[0m                                  Traceback (most recent call last)",
      "File \u001b[1;32mc:\\Users\\q1062\\miniconda3\\envs\\SpeechVision\\lib\\site-packages\\PIL\\Image.py:2953\u001b[0m, in \u001b[0;36mfromarray\u001b[1;34m(obj, mode)\u001b[0m\n\u001b[0;32m   2952\u001b[0m \u001b[39mtry\u001b[39;00m:\n\u001b[1;32m-> 2953\u001b[0m     mode, rawmode \u001b[39m=\u001b[39m _fromarray_typemap[typekey]\n\u001b[0;32m   2954\u001b[0m \u001b[39mexcept\u001b[39;00m \u001b[39mKeyError\u001b[39;00m \u001b[39mas\u001b[39;00m e:\n",
      "\u001b[1;31mKeyError\u001b[0m: ((1, 1, 3), '<f4')",
      "\nThe above exception was the direct cause of the following exception:\n",
      "\u001b[1;31mTypeError\u001b[0m                                 Traceback (most recent call last)",
      "Cell \u001b[1;32mIn [32], line 1\u001b[0m\n\u001b[1;32m----> 1\u001b[0m get_image(\u001b[39m'\u001b[39;49m\u001b[39ma dog\u001b[39;49m\u001b[39m'\u001b[39;49m)\n",
      "Cell \u001b[1;32mIn [31], line 6\u001b[0m, in \u001b[0;36mget_image\u001b[1;34m(text)\u001b[0m\n\u001b[0;32m      4\u001b[0m scores \u001b[39m=\u001b[39m torch\u001b[39m.\u001b[39meinsum(\u001b[39m'\u001b[39m\u001b[39mab, cb -> ac\u001b[39m\u001b[39m'\u001b[39m, stackembeddings, text_features)\n\u001b[0;32m      5\u001b[0m idx \u001b[39m=\u001b[39m torch\u001b[39m.\u001b[39margmax(scores)\n\u001b[1;32m----> 6\u001b[0m im \u001b[39m=\u001b[39m Image\u001b[39m.\u001b[39;49mfromarray(np\u001b[39m.\u001b[39;49mtranspose(data_viz[idx][\u001b[39m0\u001b[39;49m], (\u001b[39m1\u001b[39;49m,\u001b[39m2\u001b[39;49m,\u001b[39m0\u001b[39;49m))\u001b[39m.\u001b[39;49mnumpy())\n\u001b[0;32m      7\u001b[0m im\u001b[39m.\u001b[39msave(\u001b[39m\"\u001b[39m\u001b[39mimage.jpg\u001b[39m\u001b[39m\"\u001b[39m)\n",
      "File \u001b[1;32mc:\\Users\\q1062\\miniconda3\\envs\\SpeechVision\\lib\\site-packages\\PIL\\Image.py:2955\u001b[0m, in \u001b[0;36mfromarray\u001b[1;34m(obj, mode)\u001b[0m\n\u001b[0;32m   2953\u001b[0m         mode, rawmode \u001b[39m=\u001b[39m _fromarray_typemap[typekey]\n\u001b[0;32m   2954\u001b[0m     \u001b[39mexcept\u001b[39;00m \u001b[39mKeyError\u001b[39;00m \u001b[39mas\u001b[39;00m e:\n\u001b[1;32m-> 2955\u001b[0m         \u001b[39mraise\u001b[39;00m \u001b[39mTypeError\u001b[39;00m(\u001b[39m\"\u001b[39m\u001b[39mCannot handle this data type: \u001b[39m\u001b[39m%s\u001b[39;00m\u001b[39m, \u001b[39m\u001b[39m%s\u001b[39;00m\u001b[39m\"\u001b[39m \u001b[39m%\u001b[39m typekey) \u001b[39mfrom\u001b[39;00m \u001b[39me\u001b[39;00m\n\u001b[0;32m   2956\u001b[0m \u001b[39melse\u001b[39;00m:\n\u001b[0;32m   2957\u001b[0m     rawmode \u001b[39m=\u001b[39m mode\n",
      "\u001b[1;31mTypeError\u001b[0m: Cannot handle this data type: (1, 1, 3), <f4"
     ]
    }
   ],
   "source": [
    "get_image('a dog')"
   ]
  },
  {
   "cell_type": "code",
   "execution_count": 30,
   "metadata": {},
   "outputs": [
    {
     "data": {
      "text/plain": [
       "array([[[0.5921569 , 0.57254905, 0.56078434],\n",
       "        [0.5882353 , 0.5686275 , 0.5529412 ],\n",
       "        [0.58431375, 0.56078434, 0.54509807],\n",
       "        ...,\n",
       "        [0.92941177, 0.8862745 , 0.8627451 ],\n",
       "        [0.92941177, 0.8862745 , 0.8627451 ],\n",
       "        [0.92941177, 0.8862745 , 0.8627451 ]],\n",
       "\n",
       "       [[0.59607846, 0.5764706 , 0.5647059 ],\n",
       "        [0.5921569 , 0.57254905, 0.56078434],\n",
       "        [0.58431375, 0.5647059 , 0.5529412 ],\n",
       "        ...,\n",
       "        [0.92941177, 0.8862745 , 0.8627451 ],\n",
       "        [0.92941177, 0.8862745 , 0.8627451 ],\n",
       "        [0.92941177, 0.8862745 , 0.8627451 ]],\n",
       "\n",
       "       [[0.59607846, 0.5803922 , 0.5686275 ],\n",
       "        [0.5921569 , 0.5764706 , 0.5647059 ],\n",
       "        [0.58431375, 0.5686275 , 0.5568628 ],\n",
       "        ...,\n",
       "        [0.9254902 , 0.88235295, 0.85882354],\n",
       "        [0.9254902 , 0.88235295, 0.85882354],\n",
       "        [0.9254902 , 0.88235295, 0.85882354]],\n",
       "\n",
       "       ...,\n",
       "\n",
       "       [[0.50980395, 0.50980395, 0.5019608 ],\n",
       "        [0.5058824 , 0.5058824 , 0.49803922],\n",
       "        [0.5019608 , 0.5019608 , 0.49411765],\n",
       "        ...,\n",
       "        [0.94509804, 0.92941177, 0.89411765],\n",
       "        [0.94509804, 0.92941177, 0.89411765],\n",
       "        [0.94509804, 0.92941177, 0.89411765]],\n",
       "\n",
       "       [[0.5176471 , 0.5176471 , 0.50980395],\n",
       "        [0.5137255 , 0.5137255 , 0.5058824 ],\n",
       "        [0.5058824 , 0.5058824 , 0.49803922],\n",
       "        ...,\n",
       "        [0.94509804, 0.92941177, 0.89411765],\n",
       "        [0.94509804, 0.92941177, 0.89411765],\n",
       "        [0.94509804, 0.92941177, 0.89411765]],\n",
       "\n",
       "       [[0.5254902 , 0.5254902 , 0.5176471 ],\n",
       "        [0.52156866, 0.52156866, 0.5137255 ],\n",
       "        [0.5176471 , 0.5176471 , 0.50980395],\n",
       "        ...,\n",
       "        [0.9529412 , 0.9372549 , 0.9019608 ],\n",
       "        [0.9529412 , 0.9372549 , 0.9019608 ],\n",
       "        [0.9529412 , 0.9372549 , 0.9019608 ]]], dtype=float32)"
      ]
     },
     "execution_count": 30,
     "metadata": {},
     "output_type": "execute_result"
    }
   ],
   "source": [
    "np.transpose(data_viz[0][0], (1,2,0)).numpy()"
   ]
  },
  {
   "cell_type": "code",
   "execution_count": null,
   "metadata": {},
   "outputs": [],
   "source": []
  }
 ],
 "metadata": {
  "kernelspec": {
   "display_name": "Python 3.10.6 64-bit",
   "language": "python",
   "name": "python3"
  },
  "language_info": {
   "codemirror_mode": {
    "name": "ipython",
    "version": 3
   },
   "file_extension": ".py",
   "mimetype": "text/x-python",
   "name": "python",
   "nbconvert_exporter": "python",
   "pygments_lexer": "ipython3",
   "version": "3.10.6"
  },
  "vscode": {
   "interpreter": {
    "hash": "d0dc6f05e7df03e55e21d54b16608c196cee1106fc342c247c2e228291ac64bd"
   }
  }
 },
 "nbformat": 4,
 "nbformat_minor": 4
}
